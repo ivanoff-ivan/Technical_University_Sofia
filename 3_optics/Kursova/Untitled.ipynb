{
 "cells": [
  {
   "cell_type": "markdown",
   "metadata": {},
   "source": [
    "# Алгоритъм за проследяване на лъчи"
   ]
  },
  {
   "cell_type": "markdown",
   "metadata": {},
   "source": [
    "## Въведение\n",
    "\n",
    "Моделирането на светлината като множество от лъчи е широко използвано в компютърните графики и дизайна на лещи. Съответното курсовото задание демострира опростени двумерни алгоритми за проследяване на лъчи, имплементирани с python.\n",
    "\n",
    "## Схематично изложение на алгоритъм за проследяване на лъчи\n",
    "\n",
    "При симулация за проследяване на лъчи, светлината се представя като няколко светлинни лъча, тя също може да се опише и като частици (фотони), а лъчите като траекторията на движението им. Когато светлината срещне друга среда, част от нея се отразява, друга се пречупва и част от енергията ѝ се абсорбира. Всеки от разделените лъчи продължава пътя си, докато не срещне друга среда. Обобщено, алгоритъм за проследяване на лъчи се състои от следните стъпки:\n",
    "\n",
    "-   Намиране на пресечната точка между лъча и оптичната повърхност\n",
    "\n",
    "-   Изчисляване на новата траектория на лъча след преминаване в оптичната среда\n",
    "\n",
    "Следващите параграфи ще покажат как можем да постигнем това.\n",
    "\n",
    "## Намиране на пресечната точка между лъча и обекта\n",
    "\n",
    "\n",
    "Чрез параметризиране на лъч и обект, можем да намерим пресечните точки между тях. Изразяваме вектора на светлинния лъч като $\\mathbf{r}(t)=(x(t),y(t),z(t))$ и уравнението на повърхнината като $S(x,y,z)=0$. Намиране на $t$, при което $S(x(t),y(t),z(t))=0$ и $x(t),y(t)$ и $z(t)$ са в грананиците. Нека предположим, че решението е $t'$, $x(t'),y(t')$ и $z(t')$ са пресечните точки между лъча и повърхността.\n",
    "\n",
    "Началните точки на лъчите $x_0$, $y_0$, $z_0$ и началните ъгли $\\theta$ и $\\phi$ се задават от потребителя като начални условия на лъчите. Тези параметри са констатни, докато лъчът не бъде пречупен или отразен. Можем да мислим за $t$ като “време на полет” на лъча.\n",
    "За двумерна симулация задаваме $\\phi=0$ и работим на $y-z$ равнина.\n",
    "<img src=\"https://kanhua.github.io/images/ray_tracing_illustration.svg\" alt=\"Drawing\" style=\"width: 400px;\"/>\n",
    "\n",
    "## Изчисляване на новата посока на движение на лъча\n",
    "\n",
    "### Изчисляване на нормалния вектор\n",
    "\n",
    "Нормалният вектор е тангенциален на повърхнината $(x,y(x))$. Тангенциалният вектор на тази повърхнина в $(x,y)$ е първата производна: $d\\mathbf{s}=(dx,dy)=dx(1,\\frac{dy}{dx})=dx(1,y'(x))$. В случая на 2D, нормалния вектор е $\\mathbf{n}=(dy,-dx)$.\n",
    "\n",
    "### Обща форма на закона на Снелиус\n",
    "\n",
    "Известно е, че можем да изчислим лъчa на пречупване, използвайки закона на Снелиус:\n",
    "\n",
    "\\begin{equation}\n",
    "n_r'\\sin\\theta'=n_r \\sin \\theta ~~~~~(1)\n",
    "\\end{equation}\n",
    " \n",
    "\n",
    "Уравнението описва връзката между ъгъла на навлизане и ъгъла на пречупване.\n",
    "За да можем да работим с лъчеви вектори на навлизане, върху произволна повърхност в пространство с повече измерения, трябва да дадем по-общ израз на закона на Снелиус:\n",
    "$$\n",
    "n_r'\\mathbf{r}'\\times \\mathbf{n}=n_r \\mathbf{r}\\times \\mathbf{n}\n",
    "$$ \n",
    "където $\\mathbf{n}$ е нормалния вектор на повърхноста в точката на пречупване, $n_r$ и $n_r'$ са показателите на пречупване на средите, $\\mathbf{r}$ и $\\mathbf{r'}$ са лъчевите вектори, преди и след пречупването. $\\times$ е векторно умножение. Забележете, че всички вектори показани по-горе са нормирани единични вектори. Горното уравнение може да бъде пренаредено, за да добие по-добър вид за пресмятане на пречупващия вектор $\\mathbf{r}'$:\n",
    "    \n",
    "$$\n",
    "n_r'\\mathbf{r}'=n_r\\mathbf{r}+(n'\\mathbf{r}'\\cdot\\mathbf{n}-n\\mathbf{r}\\cdot\\mathbf{n})\\mathbf{n}~~~~(2)\n",
    "$$\n",
    "и $\\mathbf{r}'\\cdot\\mathbf{n}$ отдясната страна на може да бъде пресметнато, използвайки Уравнение (1)\n",
    "$$\n",
    "\\begin{split}\n",
    "    \\mathbf{r}'\\cdot\\mathbf{n}&=\\cos\\theta' \\\n",
    "                              &=\\sqrt{1-\\sin^2\\theta'} \\\n",
    "                              &=\\sqrt{1-\\left(\\frac{n_r}{n_r'}\\sin\\theta\\right)^2}\n",
    "\\end{split}\n",
    "$$ \n",
    "Заместваме известните $\\mathbf{r}$, $\\mathbf{n}$, $n_r$, $n_r'$ и $\\mathbf{r}'\\cdot\\mathbf{n}$ в Уравнение (2) и можем да получим пречупения вектор $\\mathbf{r'}$.\n",
    "\n",
    "\n",
    "### References\n",
    "\n",
    "[1] Roland Winston, Juan C. Minano and Pablo Benitez, Nonimaging Optics. Academic Press, 2005."
   ]
  },
  {
   "cell_type": "markdown",
   "metadata": {},
   "source": [
    "# Проследяване на лъчи в действие"
   ]
  },
  {
   "cell_type": "code",
   "execution_count": 1,
   "metadata": {},
   "outputs": [],
   "source": [
    "import numpy as np\n",
    "import matplotlib.pyplot as plt"
   ]
  },
  {
   "cell_type": "markdown",
   "metadata": {},
   "source": [
    "## Асферични лещи\n",
    "В случая ще използваме [асферични лещи](https://en.wikipedia.org/wiki/Aspheric_lens) като пример, но алгоритъмът би следвало да работи при всякакъв вид повърхнини."
   ]
  },
  {
   "cell_type": "code",
   "execution_count": 2,
   "metadata": {},
   "outputs": [],
   "source": [
    "def spherical_lens(y,R,x0,k=0,A=0,B=0):\n",
    "    c=1/R\n",
    "    z=c*np.power(y,2)/(1+np.sqrt(1-(1+k)*np.power(c*y,2)))+x0+A*np.power(y,4)+B*np.power(y,6)\n",
    "    return z"
   ]
  },
  {
   "cell_type": "code",
   "execution_count": 3,
   "metadata": {},
   "outputs": [],
   "source": [
    "rs=np.linspace(-10,10,30)\n",
    "R=15"
   ]
  },
  {
   "cell_type": "markdown",
   "metadata": {},
   "source": [
    "### Визуализиране на асферични повърхности\n",
    "Забележете, че конвенцията за уравнението на лещата е **z->дясно, y->нагоре, and x->навътре**"
   ]
  },
  {
   "cell_type": "code",
   "execution_count": 4,
   "metadata": {},
   "outputs": [],
   "source": [
    "z1=spherical_lens(rs,R,5)\n",
    "z2=spherical_lens(rs,R,5,k=-0.669032,A=0.22e-5,B=0.15e-8)"
   ]
  },
  {
   "cell_type": "code",
   "execution_count": 5,
   "metadata": {},
   "outputs": [
    {
     "data": {
      "text/plain": [
       "Text(0, 0.5, 'y')"
      ]
     },
     "execution_count": 5,
     "metadata": {},
     "output_type": "execute_result"
    },
    {
     "data": {
      "image/png": "[encoded data removed]",
      "text/plain": [
       "<Figure size 432x288 with 1 Axes>"
      ]
     },
     "metadata": {
      "needs_background": "light"
     },
     "output_type": "display_data"
    }
   ],
   "source": [
    "plt.plot(z1,rs)\n",
    "plt.plot(z2,rs)\n",
    "plt.ylim([-10,10])\n",
    "plt.xlim([4,8])\n",
    "plt.xlabel(\"z\")\n",
    "plt.ylabel(\"y\")"
   ]
  },
  {
   "cell_type": "markdown",
   "metadata": {},
   "source": [
    "### Получаване на математически изрази за параметризирано уравнение на леща и техните първи производни\n",
    "Използваме формата\n",
    "$$\n",
    "f(z,y)=z(y)-z\n",
    "$$\n",
    ", където\n",
    "$$\n",
    "z(y)=A y^{4} + B y^{6} + \\frac{c y^{2}}{\\sqrt{- c^{2} y^{2} \\left(k + 1\\right) + 1} + 1} +zl\n",
    "$$\n",
    "$zl$ е координатата z на леща, когато y=0"
   ]
  },
  {
   "cell_type": "code",
   "execution_count": 6,
   "metadata": {},
   "outputs": [],
   "source": [
    "from sympy import sin,cos,sqrt,latex,symbols,diff,ccode"
   ]
  },
  {
   "cell_type": "code",
   "execution_count": 7,
   "metadata": {},
   "outputs": [],
   "source": [
    "z,y,c,k,zl,A,B,R_c=symbols('z y c k zl A B R_c')"
   ]
  },
  {
   "cell_type": "markdown",
   "metadata": {},
   "source": [
    "Израз на уравнението на лещата $f(y,z)$"
   ]
  },
  {
   "cell_type": "code",
   "execution_count": 8,
   "metadata": {},
   "outputs": [],
   "source": [
    "spherical_expr=c*y**2/(1+sqrt(1-(1+k)*(c*y)**2))-z+A*y**4+B*y**6+zl"
   ]
  },
  {
   "cell_type": "code",
   "execution_count": 9,
   "metadata": {},
   "outputs": [
    {
     "data": {
      "text/latex": [
       "$\\displaystyle A y^{4} + B y^{6} + \\frac{c y^{2}}{\\sqrt{- c^{2} y^{2} \\left(k + 1\\right) + 1} + 1} - z + zl$"
      ],
      "text/plain": [
       "A*y**4 + B*y**6 + c*y**2/(sqrt(-c**2*y**2*(k + 1) + 1) + 1) - z + zl"
      ]
     },
     "execution_count": 9,
     "metadata": {},
     "output_type": "execute_result"
    }
   ],
   "source": [
    "spherical_expr"
   ]
  },
  {
   "cell_type": "markdown",
   "metadata": {},
   "source": [
    "#### Пресмятане на първата производна $z(r)$"
   ]
  },
  {
   "cell_type": "code",
   "execution_count": 10,
   "metadata": {},
   "outputs": [
    {
     "data": {
      "text/latex": [
       "$\\displaystyle 4 A y^{3} + 6 B y^{5} + \\frac{c^{3} y^{3} \\left(k + 1\\right)}{\\sqrt{- c^{2} y^{2} \\left(k + 1\\right) + 1} \\left(\\sqrt{- c^{2} y^{2} \\left(k + 1\\right) + 1} + 1\\right)^{2}} + \\frac{2 c y}{\\sqrt{- c^{2} y^{2} \\left(k + 1\\right) + 1} + 1}$"
      ],
      "text/plain": [
       "4*A*y**3 + 6*B*y**5 + c**3*y**3*(k + 1)/(sqrt(-c**2*y**2*(k + 1) + 1)*(sqrt(-c**2*y**2*(k + 1) + 1) + 1)**2) + 2*c*y/(sqrt(-c**2*y**2*(k + 1) + 1) + 1)"
      ]
     },
     "execution_count": 10,
     "metadata": {},
     "output_type": "execute_result"
    }
   ],
   "source": [
    "spherical_expr_prime=diff(spherical_expr,y)\n",
    "spherical_expr_prime"
   ]
  },
  {
   "cell_type": "markdown",
   "metadata": {},
   "source": [
    "$z'(y)$:"
   ]
  },
  {
   "cell_type": "markdown",
   "metadata": {},
   "source": [
    "#### Пресмятане на праметризиращото уравнение на леща\n",
    "\n",
    "Уравнението на повърхнината е $z=z(y)$, което може да бъде представено като $f(y,z)=z(y)-z$\n",
    "\n",
    "\n",
    "\n",
    "The surface equation is $z=z(y)$, which can be rearranged as $f(y,z)=z(y)-z$\n",
    "\n",
    "Заместваме праметризираните лъчеви вектори в уравнението на лещата $f(y,z)$:\n",
    "$$\n",
    "z(t)=z_0+\\cos\\theta t \\\\\n",
    "y(t)=y_0+\\cos\\theta t$$\n",
    "\n",
    "Тогава ще имаме нова параметризирана функция $g(t)=f(y(t),z(t))$.\n",
    "За да пресметнем пресечната област между лъча и повърхнината, трябва да решим $g(t)=0$. За някои числени методи, като метода на Нютон-Рафсън, също така ще бъде нужна и първата производна $g'(t)$.\n",
    "Ще пресметнем и тях."
   ]
  },
  {
   "cell_type": "code",
   "execution_count": 11,
   "metadata": {},
   "outputs": [],
   "source": [
    "theta,t=symbols('theta t')\n",
    "z0,y0=symbols('z0 y0')"
   ]
  },
  {
   "cell_type": "markdown",
   "metadata": {},
   "source": [
    "#### Параметризиране на лъчите"
   ]
  },
  {
   "cell_type": "code",
   "execution_count": 12,
   "metadata": {},
   "outputs": [],
   "source": [
    "ray_z=z0+cos(theta)*t\n",
    "ray_y=y0+sin(theta)*t"
   ]
  },
  {
   "cell_type": "markdown",
   "metadata": {},
   "source": [
    "#### Заместваме ```y(t)``` и ```z(t)``` в уравнението на повърхнината"
   ]
  },
  {
   "cell_type": "code",
   "execution_count": 13,
   "metadata": {},
   "outputs": [
    {
     "data": {
      "text/latex": [
       "$\\displaystyle A \\left(t \\sin{\\left(\\theta \\right)} + y_{0}\\right)^{4} + B \\left(t \\sin{\\left(\\theta \\right)} + y_{0}\\right)^{6} + \\frac{c \\left(t \\sin{\\left(\\theta \\right)} + y_{0}\\right)^{2}}{\\sqrt{- c^{2} \\left(k + 1\\right) \\left(t \\sin{\\left(\\theta \\right)} + y_{0}\\right)^{2} + 1} + 1} - t \\cos{\\left(\\theta \\right)} - z_{0} + zl$"
      ],
      "text/plain": [
       "A*(t*sin(theta) + y0)**4 + B*(t*sin(theta) + y0)**6 + c*(t*sin(theta) + y0)**2/(sqrt(-c**2*(k + 1)*(t*sin(theta) + y0)**2 + 1) + 1) - t*cos(theta) - z0 + zl"
      ]
     },
     "execution_count": 13,
     "metadata": {},
     "output_type": "execute_result"
    }
   ],
   "source": [
    "spherical_expr.subs(y,ray_y)\n",
    "spherical_expr.subs(z,ray_z)\n",
    "param_spherical_expr=spherical_expr.subs(z,ray_z).subs(y,ray_y)\n",
    "param_spherical_expr"
   ]
  },
  {
   "cell_type": "markdown",
   "metadata": {},
   "source": [
    "####  Пресмятане на първа производна"
   ]
  },
  {
   "cell_type": "code",
   "execution_count": 14,
   "metadata": {},
   "outputs": [
    {
     "data": {
      "text/latex": [
       "$\\displaystyle 4 A \\left(t \\sin{\\left(\\theta \\right)} + y_{0}\\right)^{3} \\sin{\\left(\\theta \\right)} + 6 B \\left(t \\sin{\\left(\\theta \\right)} + y_{0}\\right)^{5} \\sin{\\left(\\theta \\right)} + \\frac{c^{3} \\left(k + 1\\right) \\left(t \\sin{\\left(\\theta \\right)} + y_{0}\\right)^{3} \\sin{\\left(\\theta \\right)}}{\\sqrt{- c^{2} \\left(k + 1\\right) \\left(t \\sin{\\left(\\theta \\right)} + y_{0}\\right)^{2} + 1} \\left(\\sqrt{- c^{2} \\left(k + 1\\right) \\left(t \\sin{\\left(\\theta \\right)} + y_{0}\\right)^{2} + 1} + 1\\right)^{2}} + \\frac{2 c \\left(t \\sin{\\left(\\theta \\right)} + y_{0}\\right) \\sin{\\left(\\theta \\right)}}{\\sqrt{- c^{2} \\left(k + 1\\right) \\left(t \\sin{\\left(\\theta \\right)} + y_{0}\\right)^{2} + 1} + 1} - \\cos{\\left(\\theta \\right)}$"
      ],
      "text/plain": [
       "4*A*(t*sin(theta) + y0)**3*sin(theta) + 6*B*(t*sin(theta) + y0)**5*sin(theta) + c**3*(k + 1)*(t*sin(theta) + y0)**3*sin(theta)/(sqrt(-c**2*(k + 1)*(t*sin(theta) + y0)**2 + 1)*(sqrt(-c**2*(k + 1)*(t*sin(theta) + y0)**2 + 1) + 1)**2) + 2*c*(t*sin(theta) + y0)*sin(theta)/(sqrt(-c**2*(k + 1)*(t*sin(theta) + y0)**2 + 1) + 1) - cos(theta)"
      ]
     },
     "execution_count": 14,
     "metadata": {},
     "output_type": "execute_result"
    }
   ],
   "source": [
    "param_spherical_expr_prime=diff(param_spherical_expr,t)\n",
    "param_spherical_expr_prime"
   ]
  },
  {
   "cell_type": "code",
   "execution_count": 15,
   "metadata": {},
   "outputs": [],
   "source": [
    "def ray_param_eq(t,c,k,x0,y0,theta):\n",
    "    return c*(t*np.sin(theta) + y0)**2/(np.sqrt(-c**2*(k + 1)*(t*np.sin(theta) + y0)**2 + 1) + 1) - t*np.cos(theta) - x0"
   ]
  },
  {
   "cell_type": "markdown",
   "metadata": {},
   "source": [
    "## Имплементация на проследяване на лъчи, чрез Python\n",
    "Чрез уравненията от по-горе, можем да изготвим алгоритми за проследяване на лъчи.\n",
    "Използваме два класа - ```Ray``` и ```AsphericSurface``` като главни структури от данни.\n",
    "\n",
    "- ```Ray``` - обект, който съхранява вектор на лъч $z(t)=z_0+\\cos\\theta t$ и $y(t)=y_0+\\sin\\theta t$. Когато се получи пресичане между лъч и повърхнина, то стойностите на $z_0$, $y_0$ и $t$ се обновяват. \n",
    "- ```AsphericSurface``` - обект, който съхранява параметрире на повърхнината, пресмята сечението, обновява лъчевия вектор, чрез закона на Снелиус"
   ]
  },
  {
   "cell_type": "code",
   "execution_count": 16,
   "metadata": {},
   "outputs": [],
   "source": [
    "from scipy.interpolate import interp1d\n",
    "from matplotlib.axes import Axes\n",
    "from typing import Union,Callable\n",
    "\n",
    "import os\n",
    "import math"
   ]
  },
  {
   "cell_type": "markdown",
   "metadata": {},
   "source": [
    "### Имплементиране на обекта ```Ray```"
   ]
  },
  {
   "cell_type": "code",
   "execution_count": 17,
   "metadata": {},
   "outputs": [],
   "source": [
    "def _init_vec(x,y):\n",
    "    vec=np.empty(2)\n",
    "    vec[0]=x\n",
    "    vec[1]=y\n",
    "    return vec\n",
    "\n",
    "def _fast_norm(x, y):\n",
    "    return math.sqrt(math.pow(x,2)+math.pow(y,2))\n",
    "\n",
    "class Ray(object):\n",
    "    \"\"\"\n",
    "    The ray is a set of line segments. Each segment is represented by a vector v=[z,y]\n",
    "    Ray-tracing problem also requires parameterized expressions, i.e.,\n",
    "    z(t)=z_0+cos(theta)*t\n",
    "    y(t)=y_0+sin(theta)*t\n",
    "\n",
    "    z_0, y_0, theta are updated after an intersection with a surface occurs.\n",
    "    Lists are used to store the old values of z_0, y_0 and theta so that a figure renderer can plot all the segments\n",
    "\n",
    "\n",
    "    The ray data structure is:\n",
    "\n",
    "        |                         |                                 |\n",
    "        |                         |                                 |\n",
    "        |                         |                                 |\n",
    "        |                         |                                 |\n",
    "    starting point              surface 1                          surface 2\n",
    "\n",
    "       t_0                      t_1=                              t_2=\n",
    "                                t_end+t_0                         t_end+t_1\n",
    "\n",
    "     self.path: [v0,theta_0]      [[v_0,theta_0],[v_1,theta_1]]   [[v_0,theta_0],[v_1,theta_1],[v_2,theta_2]]\n",
    "     self.end_ts: [Inf]           [t_1,Inf]                       [t_1,t_2,Inf]\n",
    "     theta_x is raw angle from surface X, x=0 is starting point.\n",
    "    v_0 are the turning points of the ray vector. Every time a ray is intersected with a surface, the value of v_0 is updated\n",
    "    t_end is the ending \"time\" t of each line segment\n",
    "\n",
    "     Conventions of the coordinate:\n",
    "     z(right), y(up), x(forward). Same as the coordinate used in ZEMAX or other optics textbook\n",
    "\n",
    "\n",
    "    \"\"\"\n",
    "\n",
    "    def __init__(self, z_0, y_0, theta, wavelength=600):\n",
    "        \"\"\"\n",
    "        Initialize a beam\n",
    "\n",
    "        :param z_0: starting z position\n",
    "        :param y_0: starting y position\n",
    "        :param theta: traveling angle (theta)\n",
    "        :param wavelength: the wavelength of a ray in nanometer (not used in this implementation yet)\n",
    "        \"\"\"\n",
    "        self.z_0 = z_0\n",
    "        self.y_0 = y_0\n",
    "        self.theta = theta\n",
    "        self.dt = 0\n",
    "        self.v_0 = _init_vec(self.z_0, self.y_0)  # vector that stores the initial point of the ray\n",
    "        self.paths = [[np.copy(self.v_0), np.copy(self.theta)]]\n",
    "        self.end_ts = [float('Inf')]\n",
    "        self.k = _init_vec(np.cos(self.theta), np.sin(self.theta))\n",
    "        self.intensity = 1\n",
    "        self.wavelength = wavelength\n",
    "\n",
    "    def update_after_intersect(self, t_end, new_theta, end_beam=False):\n",
    "        \"\"\"\n",
    "        Update the state of a ray, including:\n",
    "        - a new starting point: [z_0,y_0]\n",
    "        - angle of directional cosine: theta\n",
    "\n",
    "        :param t_end:\n",
    "        :param new_theta: new traveling angle theta (radians)\n",
    "        :param attenu_coef: attenuation coefficient, assigned by the Surface object\n",
    "        :param end_beam: True if the ray will be stopped at this surface\n",
    "        :return: None\n",
    "        \"\"\"\n",
    "\n",
    "        self.v_0 += self.k * t_end\n",
    "\n",
    "        self.z_0 = self.v_0[0]\n",
    "        self.y_0 = self.v_0[1]\n",
    "\n",
    "        self.update_theta(new_theta)\n",
    "        next_t = t_end + self.dt\n",
    "        self.dt = next_t\n",
    "        self.end_ts[-1] = next_t\n",
    "\n",
    "        self.paths.append([np.copy(self.v_0), np.copy(self.theta)])\n",
    "\n",
    "        if not end_beam:\n",
    "            self.end_ts.append(float('Inf'))\n",
    "\n",
    "    def get_zy(self, delta_t):\n",
    "        \"\"\"\n",
    "        Get z and y positions from parameter t\n",
    "\n",
    "        :param delta_t:\n",
    "        :return: np.array [z,y]\n",
    "        \"\"\"\n",
    "        vv = self.v_0 + self.k * delta_t\n",
    "\n",
    "        return vv[0], vv[1]\n",
    "\n",
    "    def estimate_t(self, zp:float):\n",
    "        \"\"\"\n",
    "        Calculate t from a given z-position zp\n",
    "\n",
    "        :param zp: a value of z\n",
    "        :return: estimated t\n",
    "        \"\"\"\n",
    "\n",
    "        t = (zp - self.v_0[0]) / self.k[0]\n",
    "\n",
    "        return t\n",
    "\n",
    "    def update_theta(self, new_theta):\n",
    "        \"\"\"\n",
    "        Update the traveling angle theta\n",
    "\n",
    "        :param new_theta: new traveling angle theta of the ray\n",
    "        :return: None\n",
    "        \"\"\"\n",
    "        self.theta = new_theta\n",
    "        self.k = _init_vec(np.cos(self.theta), np.sin(self.theta))\n",
    "\n",
    "    def render(self, ax: Axes, time_of_fights, color='C0'):\n",
    "        \"\"\"\n",
    "        Render the ray start from the most recent reracted surface\n",
    "\n",
    "        :param ax: Matplotlib Axes to plot on\n",
    "        :param time_of_fights: the stopping time that the beam ends\n",
    "        :param color: matplotlib color\n",
    "        :return: None\n",
    "        \"\"\"\n",
    "        v_e = self.v_0 + time_of_fights * self.k\n",
    "\n",
    "        v_for_plots = np.vstack((self.v_0, v_e))\n",
    "        xs = v_for_plots[:, 0]\n",
    "        ys = v_for_plots[:, 1]\n",
    "\n",
    "        ax.plot(xs, ys, color=color)\n",
    "\n",
    "    def get_k_from_theta(self, theta):\n",
    "\n",
    "        k = _init_vec(np.cos(theta), np.sin(theta))\n",
    "\n",
    "        return k\n",
    "\n",
    "    def render_all(self, ax, time_of_flights, color=None):\n",
    "        \"\"\"\n",
    "        Plot all rays on the axes.\n",
    "\n",
    "        :param ax: axes to be plotted on\n",
    "        :param time_of_flights: end travel time of the ray\n",
    "        :param color: matplotlib color, such as 'C0', 'C1' or 'blue', 'red'. Set None for automatic colors.\n",
    "        :return:\n",
    "        \"\"\"\n",
    "\n",
    "        prev_t = 0\n",
    "        for idx in range(len(self.end_ts)):\n",
    "            v_0, theta = self.paths[idx]\n",
    "            end_t = self.end_ts[idx]\n",
    "            k = self.get_k_from_theta(theta)\n",
    "\n",
    "            if time_of_flights > end_t:\n",
    "                v_e = v_0 + (end_t - prev_t) * k\n",
    "            else:\n",
    "                v_e = v_0 + (time_of_flights - prev_t) * k\n",
    "            v_for_plots = np.vstack((v_0, v_e))\n",
    "            xs = v_for_plots[:, 0]\n",
    "            ys = v_for_plots[:, 1]\n",
    "            prev_t = end_t\n",
    "            if color is None:\n",
    "                plot_color = 'C{}'.format(idx)\n",
    "            else:\n",
    "                plot_color = color\n",
    "            ax.plot(xs, ys, color=plot_color, linewidth=0.5)"
   ]
  },
  {
   "cell_type": "markdown",
   "metadata": {},
   "source": [
    "### Имплементиране на обекта  ```AsphericSurface```\n",
    "\n",
    "- ```get_tangent_vec(y_p)```: пресмята тангенциалния вектор $dS$ на $y_p$\n",
    "- ```get_tangent_vec(y_p)```: пресмята тангенциалния вектор $dN$ на $y_p$\n",
    "- ```get_refraction()```: пресмята новия вектор на лъч, използвайки закона на Снелиус\n",
    "- ```intersect()```: намира сечението между лъч и повърхнината и след това пресмята пречупването на лъча\n",
    "\n",
    "<img src=\"https://kanhua.github.io/images/ray_tracing_illustration.svg\" alt=\"Drawing\" style=\"width: 400px;\"/>"
   ]
  },
  {
   "cell_type": "code",
   "execution_count": 18,
   "metadata": {},
   "outputs": [],
   "source": [
    "from scipy.optimize import newton\n",
    "def surface_zr(y, c, z0, k=0, A=0, B=0):\n",
    "    z = c * np.power(y, 2) / (1 + np.sqrt(1 - (1 + k) * np.power(c * y, 2))) + z0 + A * np.power(y, 4) + B * np.power(y,\n",
    "                                                                                                                      6)\n",
    "    return z\n",
    "\n",
    "\n",
    "class AsphericSurface(object):\n",
    "    def __init__(self, curvature, z_0, konic, aperture_radius=10, A=0, B=0,\n",
    "                 record_rays=False, material_nr=1.0, end_beam=False):\n",
    "        \"\"\"\n",
    "        Aspheric surface object.\n",
    "\n",
    "\n",
    "        :param curvature: curvature of the lens in (mm^-1)\n",
    "        :param z_0: center position of the lens on z-axis\n",
    "        :param konic: conic coefficient\n",
    "        :param aperture_radius: radius of the aperture\n",
    "        :param A: fourth order coefficient of the lens\n",
    "        :param B: sixth order coefficient of the lens\n",
    "        :param record_rays: True if the surface is a detector that records the ray that hit the surface\n",
    "        :param attenu_coef: attenuation coefficient  (1/mm)\n",
    "        \"\"\"\n",
    "        self.c = curvature\n",
    "        self.k = konic\n",
    "        self.z_0 = z_0\n",
    "        self.A = A\n",
    "        self.B = B\n",
    "        self.aperture_radius = aperture_radius\n",
    "        self.ray_bins = []\n",
    "        self.record_rays = record_rays\n",
    "\n",
    "        # FUTURE improvement: this is temporary. Future version may have shifts in y\n",
    "        self.y_min = -aperture_radius\n",
    "        self.y_max = aperture_radius\n",
    "\n",
    "        self.constant_nr = material_nr\n",
    "        self.n_r = self._constant_nr\n",
    "\n",
    "        self.end_beam = end_beam\n",
    "\n",
    "    def _constant_nr(self, wavelength):\n",
    "        \"\"\"\n",
    "        function of wavelength dependent refractive index n_r(labmda)\n",
    "\n",
    "        :param wavelength: can be anything\n",
    "        :return: preset refractive index\n",
    "        \"\"\"\n",
    "\n",
    "        return self.constant_nr\n",
    "\n",
    "    def get_surface_zr(self, y):\n",
    "        z = surface_zr(y, self.c, self.z_0, self.k, self.A, self.B)\n",
    "        return z\n",
    "\n",
    "    def spherical_lens_prime(self, y, c, k, A, B):\n",
    "        return 4 * A * y ** 3 + 6 * B * y ** 5 + c ** 3 * y ** 3 * (k + 1) / (sqrt(-c ** 2 * y ** 2 * (k + 1) + 1) * (\n",
    "                sqrt(-c ** 2 * y ** 2 * (k + 1) + 1) + 1) ** 2) + 2 * c * y / (\n",
    "                       sqrt(-c ** 2 * y ** 2 * (k + 1) + 1) + 1)\n",
    "\n",
    "    def ray_param_eq(self, t, c, k, z0, y0, theta, A, B):\n",
    "        \"\"\"\n",
    "        Parametrized ray equation\n",
    "\n",
    "        :param t:\n",
    "        :param c:\n",
    "        :param k:\n",
    "        :param z0: starting point x0 of the ray\n",
    "        :param y0: starting point y0 of the ray\n",
    "        :param theta:\n",
    "        :param A: coefficients of higher order term (r**4)\n",
    "        :param B: coefficients of higher order term (r**6)\n",
    "        :return:\n",
    "        \"\"\"\n",
    "\n",
    "        return c * (t * np.sin(theta) + y0) ** 2 / (\n",
    "                np.sqrt(-c ** 2 * (k + 1) * (t * np.sin(theta) + y0) ** 2 + 1) + 1) - \\\n",
    "               t * np.cos(theta) - z0 + self.z_0 + A * (t * np.sin(theta) + y0) ** 4 + B * (t * np.sin(theta) + y0) ** 6\n",
    "\n",
    "    def ray_param_eq_prime(self, t, c, k, z0, y0, theta, A, B):\n",
    "        \"\"\"\n",
    "        First order derivative of parametrized ray equation\n",
    "\n",
    "        :param t:\n",
    "        :param c:\n",
    "        :param k:\n",
    "        :param z0: z0 is not used but was kept so that the parameters are the same as ray_param_eq(), for the use of newton raphson solver\n",
    "        :param y0:\n",
    "        :param theta:\n",
    "        :param A:\n",
    "        :param B:\n",
    "        :return:\n",
    "        \"\"\"\n",
    "\n",
    "        return 4 * A * (t * np.sin(theta) + y0) ** 3 * np.sin(theta) + 6 * B * (t * np.sin(theta) + y0) ** 5 * np.sin(\n",
    "            theta) + c ** 3 * (\n",
    "                       k + 1) * (t * np.sin(theta) + y0) ** 3 * np.sin(theta) / (\n",
    "                       np.sqrt(-c ** 2 * (k + 1) * (t * np.sin(theta) + y0) ** 2 + 1) * (\n",
    "                       np.sqrt(-c ** 2 * (k + 1) * (t * np.sin(theta) + y0) ** 2 + 1) + 1) ** 2) + 2 * c * (\n",
    "                       t * np.sin(theta) + y0) * np.sin(theta) / (\n",
    "                       np.sqrt(-c ** 2 * (k + 1) * (t * np.sin(theta) + y0) ** 2 + 1) + 1) - np.cos(theta)\n",
    "\n",
    "    def add_rays_into_bins(self, z, y, intensity, wavelength):\n",
    "        self.ray_bins.append((z, y, intensity, wavelength))\n",
    "\n",
    "    def get_tangent_vec(self, yp, normalize=True):\n",
    "        \"\"\"\n",
    "        Calculate the tangent vector of at the position y\n",
    "\n",
    "        :param yp: y-position of the tangent vector\n",
    "        :param normalize: normalize the norm ||v|| to unity\n",
    "        :return: a 2D np.array([z,y])\n",
    "        \"\"\"\n",
    "\n",
    "        xp_p = self.spherical_lens_prime(yp, self.c, self.k, self.A, self.B)\n",
    "        tangent_vec = np.empty(2)\n",
    "        tangent_vec[0] = xp_p\n",
    "        tangent_vec[1] = 1\n",
    "\n",
    "        if normalize:\n",
    "            tangent_vec = tangent_vec / _fast_norm(tangent_vec[0], tangent_vec[1])\n",
    "\n",
    "        return tangent_vec\n",
    "\n",
    "    def get_norm_vec(self, yp):\n",
    "        \"\"\"\n",
    "        Calculate the normal vector of at the position y\n",
    "\n",
    "        :param yp:\n",
    "        :return: a 2D np.array([z,y])\n",
    "        \"\"\"\n",
    "        tangent_vec = self.get_tangent_vec(yp, normalize=True)\n",
    "\n",
    "        normal_vec = np.empty(2)\n",
    "        normal_vec[0] = -tangent_vec[1]\n",
    "        normal_vec[1] = tangent_vec[0]\n",
    "\n",
    "        return normal_vec\n",
    "\n",
    "    def get_refraction(self, yp, ray: Ray, prev_n: float) -> np.ndarray:\n",
    "\n",
    "        n_r = self.n_r(ray.wavelength)\n",
    "        norm_vec = -self.get_norm_vec(yp)\n",
    "\n",
    "        # Calculate cosine from Snell's law\n",
    "        cos_I = norm_vec[0] * ray.k[0] + norm_vec[1] * ray.k[1]\n",
    "        sin_I = np.sqrt(1 - np.power(cos_I, 2))\n",
    "        sin_Ip = prev_n * sin_I / n_r\n",
    "        cos_Ip = np.sqrt(1 - np.power(sin_Ip, 2))\n",
    "\n",
    "        # Calculate the refractive vector\n",
    "        r_vec = ray.k\n",
    "        nprpn = n_r * cos_Ip - prev_n * cos_I\n",
    "\n",
    "        next_r = 1 / n_r * (prev_n * r_vec + nprpn * norm_vec)\n",
    "\n",
    "        return next_r\n",
    "\n",
    "    def intersect(self, ray: Ray, prev_n: Union[Callable[[float], float], None],\n",
    "                  t_min=0, t_max=10):\n",
    "\n",
    "        def unity_func(x):\n",
    "            return 1.0\n",
    "\n",
    "        if prev_n is None:\n",
    "            prev_n = unity_func\n",
    "\n",
    "        # Make a initial guess of t for newton-raphson solver\n",
    "        # the t could be either at the edge of a surface or the center of a surface\n",
    "        # depending on its shape\n",
    "        t_min_p_1 = ray.estimate_t(self.get_surface_zr(self.aperture_radius))\n",
    "        t_min_p_2 = ray.estimate_t(self.z_0)\n",
    "        t_min_p = min(t_min_p_1, t_min_p_2)\n",
    "\n",
    "        t_end = newton(self.ray_param_eq, (t_min_p + t_max) / 2,\n",
    "                       fprime=self.ray_param_eq_prime,\n",
    "                       args=(self.c, self.k, ray.z_0, ray.y_0, ray.theta, self.A, self.B))\n",
    "        # Calculate the intersected point between the ray and the surface\n",
    "        z_end, y_end = ray.get_zy(t_end)\n",
    "\n",
    "        # We have to check the point of intersection is within the boundary\n",
    "        if (y_end <= self.y_max) and (y_end >= self.y_min):\n",
    "            if self.record_rays:\n",
    "                self.add_rays_into_bins(z_end, y_end, ray.intensity, ray.wavelength)\n",
    "\n",
    "            next_r = self.get_refraction(y_end, ray, prev_n=prev_n(ray.wavelength))\n",
    "            new_theta = np.arctan2(next_r[1], next_r[0])\n",
    "\n",
    "            ray.update_after_intersect(t_end, new_theta=new_theta,\n",
    "                                       end_beam=self.end_beam)\n",
    "\n",
    "    def render(self, ax, point_num=1200):\n",
    "        rs = np.linspace(-self.aperture_radius, self.aperture_radius, point_num)\n",
    "        zs = self.get_surface_zr(rs)\n",
    "\n",
    "        ax.plot(zs, rs, color='black', linewidth=0.5)\n",
    "        ax.set_xlabel(\"z-position\")\n",
    "        ax.set_ylabel(\"y-position\")"
   ]
  },
  {
   "cell_type": "markdown",
   "metadata": {},
   "source": [
    "### Дефиниране на няколко на брой повърхнини"
   ]
  },
  {
   "cell_type": "code",
   "execution_count": 19,
   "metadata": {},
   "outputs": [],
   "source": [
    "lens_aperture_radius=5\n",
    "asf = AsphericSurface(curvature=1 / 20, konic=0.0,z_0=0, A=0.0,B=0.0,\n",
    "                aperture_radius=lens_aperture_radius, material_nr=2.0)\n",
    "bsf = AsphericSurface(curvature=-1 / 20, konic=0.0,z_0=15, A=0.0,B=0.0,\n",
    "                aperture_radius=lens_aperture_radius, material_nr=1.0)"
   ]
  },
  {
   "cell_type": "code",
   "execution_count": 20,
   "metadata": {},
   "outputs": [
    {
     "data": {
      "image/png": "[encoded data removed]",
      "text/plain": [
       "<Figure size 432x288 with 1 Axes>"
      ]
     },
     "metadata": {
      "needs_background": "light"
     },
     "output_type": "display_data"
    }
   ],
   "source": [
    "fig,ax=plt.subplots()\n",
    "asf.render(ax)\n",
    "bsf.render(ax)\n",
    "plt.show()"
   ]
  },
  {
   "cell_type": "markdown",
   "metadata": {},
   "source": [
    "### Дефинираме на няколко на брой лъча\n",
    "Задаване на началните условия на лъчите"
   ]
  },
  {
   "cell_type": "code",
   "execution_count": 23,
   "metadata": {},
   "outputs": [],
   "source": [
    "ray_number=10\n",
    "y_start = np.linspace(-lens_aperture_radius*0.9, lens_aperture_radius*0.9,\n",
    "                      num=ray_number)\n",
    "x_start = np.ones_like(y_start) * (-2.0)\n",
    "theta = np.zeros_like(y_start)\n",
    "rays = []"
   ]
  },
  {
   "cell_type": "markdown",
   "metadata": {},
   "source": [
    "### Пресмятане на тангенциалния и нормалния вектор на лъчите"
   ]
  },
  {
   "cell_type": "code",
   "execution_count": 24,
   "metadata": {},
   "outputs": [
    {
     "data": {
      "text/plain": [
       "(-5.0, 5.0)"
      ]
     },
     "execution_count": 24,
     "metadata": {},
     "output_type": "execute_result"
    },
    {
     "data": {
      "image/png": "[encoded data removed]",
      "text/plain": [
       "<Figure size 432x288 with 1 Axes>"
      ]
     },
     "metadata": {
      "needs_background": "light"
     },
     "output_type": "display_data"
    }
   ],
   "source": [
    "fig,ax=plt.subplots()\n",
    "asf.render(ax)\n",
    "tangent_vec_length=2.0\n",
    "y_pos_array = np.linspace(-lens_aperture_radius*0.9, lens_aperture_radius*0.9,\n",
    "                      num=ray_number)\n",
    "for yp in y_pos_array:\n",
    "    # get tangent vector\n",
    "    t_v=asf.get_tangent_vec(yp,normalize=True)\n",
    "    t_v=t_v*0.1\n",
    "    n_v=asf.get_norm_vec(yp)\n",
    "    n_v=n_v*0.4\n",
    "    zp=asf.get_surface_zr(yp)\n",
    "    \n",
    "    # plot tangent vectors\n",
    "    ax.plot([zp-t_v[0],zp+t_v[0]],[yp-t_v[1],yp+t_v[1]],color=\"C2\",linewidth=2.0)\n",
    "    \n",
    "    # plot normal vectors\n",
    "    ax.plot([zp-n_v[0],zp+n_v[0]],[yp-n_v[1],yp+n_v[1]],color=\"C3\")\n",
    "\n",
    "ax.set_xlim(left=-5,right=5)"
   ]
  },
  {
   "cell_type": "markdown",
   "metadata": {},
   "source": [
    "### Дефинираме на няколко на брой лъча\n",
    "Задаване на началните условия на лъчите"
   ]
  },
  {
   "cell_type": "code",
   "execution_count": 25,
   "metadata": {},
   "outputs": [
    {
     "data": {
      "image/png": "[encoded data removed]",
      "text/plain": [
       "<Figure size 432x288 with 1 Axes>"
      ]
     },
     "execution_count": 25,
     "metadata": {},
     "output_type": "execute_result"
    }
   ],
   "source": [
    "asf.render(ax)\n",
    "for i in range(y_start.shape[0]):\n",
    "    ray_wavelength=500\n",
    "    ray = Ray(x_start[i], y_start[i], theta[i], ray_wavelength)\n",
    "    rays.append(ray)\n",
    "\n",
    "    asf.intersect(ray, t_min=0, t_max=5, prev_n=None)\n",
    "    ray.render_all(ax,time_of_flights=50)\n",
    "fig"
   ]
  },
  {
   "cell_type": "markdown",
   "metadata": {},
   "source": [
    "Приближаваме, за да се види по-добре, как лъча се пречупва"
   ]
  },
  {
   "cell_type": "code",
   "execution_count": 26,
   "metadata": {},
   "outputs": [
    {
     "data": {
      "image/png": "[encoded data removed]",
      "text/plain": [
       "<Figure size 432x288 with 1 Axes>"
      ]
     },
     "execution_count": 26,
     "metadata": {},
     "output_type": "execute_result"
    }
   ],
   "source": [
    "ax.set_xlim([-0.2,1.2])\n",
    "ax.set_ylim([4,5])\n",
    "fig"
   ]
  },
  {
   "cell_type": "markdown",
   "metadata": {},
   "source": [
    "### Проследяване на лъчи от две повърхнини"
   ]
  },
  {
   "cell_type": "code",
   "execution_count": 27,
   "metadata": {},
   "outputs": [
    {
     "data": {
      "image/png": "[encoded data removed]",
      "text/plain": [
       "<Figure size 432x288 with 1 Axes>"
      ]
     },
     "metadata": {
      "needs_background": "light"
     },
     "output_type": "display_data"
    }
   ],
   "source": [
    "fig,ax=plt.subplots()\n",
    "asf.render(ax)\n",
    "bsf.render(ax)\n",
    "for i in range(y_start.shape[0]):\n",
    "    ray_wavelength=500\n",
    "    ray = Ray(x_start[i], y_start[i], theta[i], ray_wavelength)\n",
    "    rays.append(ray)\n",
    "\n",
    "    asf.intersect(ray, t_min=0, t_max=100, prev_n=None)\n",
    "    bsf.intersect(ray, t_min=0, t_max=100, prev_n=asf.n_r)\n",
    "    ray.render_all(ax,time_of_flights=50)\n",
    "plt.show()"
   ]
  },
  {
   "cell_type": "code",
   "execution_count": null,
   "metadata": {},
   "outputs": [],
   "source": []
  }
 ],
 "metadata": {
  "kernelspec": {
   "display_name": "Python 3 (ipykernel)",
   "language": "python",
   "name": "python3"
  },
  "language_info": {
   "codemirror_mode": {
    "name": "ipython",
    "version": 3
   },
   "file_extension": ".py",
   "mimetype": "text/x-python",
   "name": "python",
   "nbconvert_exporter": "python",
   "pygments_lexer": "ipython3",
   "version": "3.10.4"
  }
 },
 "nbformat": 4,
 "nbformat_minor": 4
}
