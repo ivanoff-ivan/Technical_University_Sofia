{
 "cells": [
  {
   "cell_type": "code",
   "execution_count": 1,
   "id": "6296cf14",
   "metadata": {},
   "outputs": [],
   "source": [
    "%matplotlib inline"
   ]
  },
  {
   "cell_type": "code",
   "execution_count": 1,
   "id": "6fe4e9de",
   "metadata": {},
   "outputs": [],
   "source": [
    "import numpy as np\n",
    "import matplotlib.pyplot as plt"
   ]
  },
  {
   "cell_type": "code",
   "execution_count": null,
   "id": "6f3141d5",
   "metadata": {},
   "outputs": [],
   "source": [
    "n_1 = float(input(\"n1: \\n\"))"
   ]
  },
  {
   "cell_type": "code",
   "execution_count": 26,
   "id": "de0fef44",
   "metadata": {},
   "outputs": [
    {
     "name": "stdout",
     "output_type": "stream",
     "text": [
      "n2: \n",
      "1.5\n"
     ]
    }
   ],
   "source": [
    "n_2 = float(input(\"n2: \\n\"))"
   ]
  },
  {
   "cell_type": "code",
   "execution_count": 22,
   "id": "56c48521",
   "metadata": {},
   "outputs": [
    {
     "name": "stdout",
     "output_type": "stream",
     "text": [
      "r: \n",
      "50\n"
     ]
    }
   ],
   "source": [
    "r = float(input(\"r: \\n\"))"
   ]
  },
  {
   "cell_type": "code",
   "execution_count": 23,
   "id": "e795b707",
   "metadata": {},
   "outputs": [
    {
     "name": "stdout",
     "output_type": "stream",
     "text": [
      "t: \n",
      "1\n"
     ]
    }
   ],
   "source": [
    "t = float(input(\"t: \\n\"))"
   ]
  },
  {
   "cell_type": "code",
   "execution_count": 42,
   "id": "cbc6f600",
   "metadata": {},
   "outputs": [
    {
     "data": {
      "text/plain": [
       "(array([[ 1.  ,  0.  ],\n",
       "        [-0.01,  1.  ]]),\n",
       " array([[1.        , 0.66666667],\n",
       "        [0.        , 1.        ]]))"
      ]
     },
     "execution_count": 42,
     "metadata": {},
     "output_type": "execute_result"
    }
   ],
   "source": [
    "R = np.array(\n",
    "    [[1, 0],\n",
    "    [(-(n_2-n_1)/r), 1],\n",
    "])\n",
    "\n",
    "T = np.array([\n",
    "    [1, t/n_2],\n",
    "    [0, 1],\n",
    "])\n",
    "\n",
    "R, T"
   ]
  },
  {
   "cell_type": "code",
   "execution_count": 43,
   "id": "030db513",
   "metadata": {},
   "outputs": [
    {
     "data": {
      "text/plain": [
       "array([[ 0.99333333,  0.66666667],\n",
       "       [-0.01      ,  1.        ]])"
      ]
     },
     "execution_count": 43,
     "metadata": {},
     "output_type": "execute_result"
    }
   ],
   "source": [
    "M=np.dot(T, R)\n",
    "M"
   ]
  },
  {
   "cell_type": "markdown",
   "id": "6c1cf956",
   "metadata": {},
   "source": [
    "# New Task\n",
    "<hr>\n"
   ]
  },
  {
   "cell_type": "code",
   "execution_count": 3,
   "id": "94c5f093",
   "metadata": {},
   "outputs": [
    {
     "name": "stdout",
     "output_type": "stream",
     "text": [
      "1\n"
     ]
    }
   ],
   "source": [
    "t = float(input())"
   ]
  },
  {
   "cell_type": "code",
   "execution_count": 4,
   "id": "784c68d0",
   "metadata": {},
   "outputs": [
    {
     "name": "stdout",
     "output_type": "stream",
     "text": [
      "50\n"
     ]
    }
   ],
   "source": [
    "r1 = float(input())"
   ]
  },
  {
   "cell_type": "code",
   "execution_count": 5,
   "id": "63f4d42b",
   "metadata": {},
   "outputs": [
    {
     "name": "stdout",
     "output_type": "stream",
     "text": [
      "-50\n"
     ]
    }
   ],
   "source": [
    "r2 = float(input())"
   ]
  },
  {
   "cell_type": "code",
   "execution_count": 6,
   "id": "ea074910",
   "metadata": {},
   "outputs": [
    {
     "name": "stdout",
     "output_type": "stream",
     "text": [
      "1\n"
     ]
    }
   ],
   "source": [
    "n1 = float(input())"
   ]
  },
  {
   "cell_type": "code",
   "execution_count": 7,
   "id": "f93ea660",
   "metadata": {},
   "outputs": [
    {
     "name": "stdout",
     "output_type": "stream",
     "text": [
      "1.5\n"
     ]
    }
   ],
   "source": [
    "n2 = float(input())"
   ]
  },
  {
   "cell_type": "code",
   "execution_count": 8,
   "id": "b622c38e",
   "metadata": {},
   "outputs": [
    {
     "name": "stdout",
     "output_type": "stream",
     "text": [
      "1\n"
     ]
    }
   ],
   "source": [
    "n3 = float(input())"
   ]
  },
  {
   "cell_type": "code",
   "execution_count": 9,
   "id": "e034416b",
   "metadata": {},
   "outputs": [
    {
     "name": "stdout",
     "output_type": "stream",
     "text": [
      "R1: \n",
      "[[ 1.    0.  ]\n",
      " [-0.01  1.  ]]\n",
      "T: \n",
      "[[1.         0.66666667]\n",
      " [0.         1.        ]]\n",
      "R2: \n",
      "[[ 1.    0.  ]\n",
      " [-0.01  1.  ]]\n"
     ]
    }
   ],
   "source": [
    "R1 = np.array([\n",
    "    [1, 0],\n",
    "    [-(n2-n1)/r1, 1],\n",
    "])\n",
    "\n",
    "T = np.array([\n",
    "    [1, t/n2],\n",
    "    [0, 1],\n",
    "])\n",
    "\n",
    "R2 = np.array([\n",
    "    [1, 0],\n",
    "    [-(n3-n2)/r2, 1],\n",
    "])\n",
    "\n",
    "print(f\"R1: \\n{R1}\")\n",
    "print(f\"T: \\n{T}\")\n",
    "print(f\"R2: \\n{R2}\")"
   ]
  },
  {
   "cell_type": "code",
   "execution_count": 10,
   "id": "9adec0f2",
   "metadata": {},
   "outputs": [
    {
     "data": {
      "text/plain": [
       "array([[ 0.99333333,  0.66666667],\n",
       "       [-0.01993333,  0.99333333]])"
      ]
     },
     "execution_count": 10,
     "metadata": {},
     "output_type": "execute_result"
    }
   ],
   "source": [
    "# M = np.dot(R2, T)\n",
    "# M = np.dot(M, R1)\n",
    "# M\n",
    "\n",
    "M = np.dot(T, R1)\n",
    "M = np.dot(R2, M)\n",
    "M\n"
   ]
  },
  {
   "cell_type": "code",
   "execution_count": 11,
   "id": "6b9c1d97",
   "metadata": {},
   "outputs": [
    {
     "data": {
      "text/plain": [
       "array([[ 0.99333333,  0.66666667],\n",
       "       [-0.01993333,  0.99333333]])"
      ]
     },
     "execution_count": 11,
     "metadata": {},
     "output_type": "execute_result"
    }
   ],
   "source": [
    "M = np.dot(R2, T)\n",
    "M = np.dot(M, R1)\n",
    "M"
   ]
  },
  {
   "cell_type": "markdown",
   "id": "9a3450b7",
   "metadata": {},
   "source": [
    "# New Task\n",
    "<hr>"
   ]
  },
  {
   "cell_type": "code",
   "execution_count": 12,
   "id": "06ed5af8",
   "metadata": {},
   "outputs": [
    {
     "name": "stdout",
     "output_type": "stream",
     "text": [
      "50\n"
     ]
    }
   ],
   "source": [
    "r1 = float(input())"
   ]
  },
  {
   "cell_type": "code",
   "execution_count": 13,
   "id": "b915b6ab",
   "metadata": {},
   "outputs": [
    {
     "name": "stdout",
     "output_type": "stream",
     "text": [
      "-50\n"
     ]
    }
   ],
   "source": [
    "r2 = float(input())"
   ]
  },
  {
   "cell_type": "code",
   "execution_count": 14,
   "id": "18830866",
   "metadata": {},
   "outputs": [
    {
     "name": "stdout",
     "output_type": "stream",
     "text": [
      "25\n"
     ]
    }
   ],
   "source": [
    "r3 = float(input())"
   ]
  },
  {
   "cell_type": "code",
   "execution_count": 15,
   "id": "62c766a7",
   "metadata": {},
   "outputs": [
    {
     "name": "stdout",
     "output_type": "stream",
     "text": [
      "-25\n"
     ]
    }
   ],
   "source": [
    "r4 = float(input())"
   ]
  },
  {
   "cell_type": "code",
   "execution_count": 16,
   "id": "4ecd30b5",
   "metadata": {},
   "outputs": [
    {
     "name": "stdout",
     "output_type": "stream",
     "text": [
      "1\n"
     ]
    }
   ],
   "source": [
    "t1 = float(input())"
   ]
  },
  {
   "cell_type": "code",
   "execution_count": 17,
   "id": "accdf2c8",
   "metadata": {},
   "outputs": [
    {
     "name": "stdout",
     "output_type": "stream",
     "text": [
      "1\n"
     ]
    }
   ],
   "source": [
    "t2 = float(input())"
   ]
  },
  {
   "cell_type": "code",
   "execution_count": 18,
   "id": "04ebe541",
   "metadata": {},
   "outputs": [
    {
     "name": "stdout",
     "output_type": "stream",
     "text": [
      "75\n"
     ]
    }
   ],
   "source": [
    "d = float(input())"
   ]
  },
  {
   "cell_type": "code",
   "execution_count": 19,
   "id": "8312473c",
   "metadata": {},
   "outputs": [
    {
     "name": "stdout",
     "output_type": "stream",
     "text": [
      "1\n"
     ]
    }
   ],
   "source": [
    "n1 = float(input())"
   ]
  },
  {
   "cell_type": "code",
   "execution_count": 20,
   "id": "e1b45e14",
   "metadata": {},
   "outputs": [
    {
     "name": "stdout",
     "output_type": "stream",
     "text": [
      "1.5\n"
     ]
    }
   ],
   "source": [
    "n2 = float(input())"
   ]
  },
  {
   "cell_type": "code",
   "execution_count": 21,
   "id": "98df0bb0",
   "metadata": {},
   "outputs": [
    {
     "name": "stdout",
     "output_type": "stream",
     "text": [
      "1\n"
     ]
    }
   ],
   "source": [
    "n3 = float(input())"
   ]
  },
  {
   "cell_type": "code",
   "execution_count": 22,
   "id": "ef980078",
   "metadata": {},
   "outputs": [
    {
     "name": "stdout",
     "output_type": "stream",
     "text": [
      "1.5\n"
     ]
    }
   ],
   "source": [
    "n4 = float(input())"
   ]
  },
  {
   "cell_type": "code",
   "execution_count": 23,
   "id": "07a364f0",
   "metadata": {},
   "outputs": [
    {
     "name": "stdout",
     "output_type": "stream",
     "text": [
      "1\n"
     ]
    }
   ],
   "source": [
    "n5 = float(input())"
   ]
  },
  {
   "cell_type": "code",
   "execution_count": 24,
   "id": "6545f9f0",
   "metadata": {},
   "outputs": [],
   "source": [
    "R1 = np.array([\n",
    "    [1, 0],\n",
    "    [-(n2-n1)/r1, 1],\n",
    "])\n",
    "\n",
    "T1 = np.array([\n",
    "    [1, t1/n2],\n",
    "    [0, 1],\n",
    "])\n",
    "\n",
    "R2 = np.array([\n",
    "    [1, 0],\n",
    "    [-(n3-n2)/r2, 1],\n",
    "])\n",
    "\n",
    "T2 = np.array([\n",
    "    [1, d/n3],\n",
    "    [0, 1],\n",
    "])\n",
    "\n",
    "R3 = np.array([\n",
    "    [1, 0],\n",
    "    [-(n4-n3)/r3, 1],\n",
    "])\n",
    "\n",
    "T3 = np.array([\n",
    "    [1, t2/n4],\n",
    "    [0, 1],\n",
    "])\n",
    "\n",
    "R4 = np.array([\n",
    "    [1, 0],\n",
    "    [-(n5-n4)/r4, 1],\n",
    "])"
   ]
  },
  {
   "cell_type": "code",
   "execution_count": 25,
   "id": "94f1e12a",
   "metadata": {},
   "outputs": [
    {
     "data": {
      "text/plain": [
       "array([[-5.08266667e-01,  7.48266667e+01],\n",
       "       [ 2.65333333e-04, -2.00653333e+00]])"
      ]
     },
     "execution_count": 25,
     "metadata": {},
     "output_type": "execute_result"
    }
   ],
   "source": [
    "M = np.dot(T1, R1)\n",
    "M = np.dot(R2, M)\n",
    "M = np.dot(T2, M)\n",
    "M = np.dot(R3, M)\n",
    "M = np.dot(T3, M)\n",
    "M = np.dot(R4, M)\n",
    "M"
   ]
  },
  {
   "cell_type": "code",
   "execution_count": 27,
   "id": "e5d29eeb",
   "metadata": {},
   "outputs": [
    {
     "data": {
      "text/plain": [
       "array([[-5.08266667e-01,  7.48266667e+01],\n",
       "       [ 2.65333333e-04, -2.00653333e+00]])"
      ]
     },
     "execution_count": 27,
     "metadata": {},
     "output_type": "execute_result"
    }
   ],
   "source": [
    "M = np.dot(R4, T3)\n",
    "M = np.dot(M, R3)\n",
    "M = np.dot(M, T2)\n",
    "M = np.dot(M, R2)\n",
    "M = np.dot(M, T1)\n",
    "M = np.dot(M, R1)\n",
    "M"
   ]
  },
  {
   "cell_type": "code",
   "execution_count": 29,
   "id": "11cbe1d6",
   "metadata": {},
   "outputs": [
    {
     "data": {
      "text/plain": [
       "3768.8442258402565"
      ]
     },
     "execution_count": 29,
     "metadata": {},
     "output_type": "execute_result"
    }
   ],
   "source": [
    "F = 1/2.65333333e-04\n",
    "F"
   ]
  },
  {
   "cell_type": "code",
   "execution_count": null,
   "id": "57768ef4",
   "metadata": {},
   "outputs": [],
   "source": []
  }
 ],
 "metadata": {
  "kernelspec": {
   "display_name": "Python 3 (ipykernel)",
   "language": "python",
   "name": "python3"
  },
  "language_info": {
   "codemirror_mode": {
    "name": "ipython",
    "version": 3
   },
   "file_extension": ".py",
   "mimetype": "text/x-python",
   "name": "python",
   "nbconvert_exporter": "python",
   "pygments_lexer": "ipython3",
   "version": "3.9.7"
  }
 },
 "nbformat": 4,
 "nbformat_minor": 5
}
